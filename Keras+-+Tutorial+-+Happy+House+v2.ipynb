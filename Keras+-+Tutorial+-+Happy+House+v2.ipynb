{
 "cells": [
  {
   "cell_type": "markdown",
   "metadata": {},
   "source": [
    "# Keras tutorial - the Happy House\n",
    "\n",
    "Welcome to the first assignment of week 2. In this assignment, you will:\n",
    "1. Learn to use Keras, a high-level neural networks API (programming framework), written in Python and capable of running on top of several lower-level frameworks including TensorFlow and CNTK. \n",
    "2. See how you can in a couple of hours build a deep learning algorithm.\n",
    "\n",
    "Why are we using Keras? Keras was developed to enable deep learning engineers to build and experiment with different models very quickly. Just as TensorFlow is a higher-level framework than Python, Keras is an even higher-level framework and provides additional abstractions. Being able to go from idea to result with the least possible delay is key to finding good models. However, Keras is more restrictive than the lower-level frameworks, so there are some very complex models that you can implement in TensorFlow but not (without more difficulty) in Keras. That being said, Keras will work fine for many common models. \n",
    "\n",
    "In this exercise, you'll work on the \"Happy House\" problem, which we'll explain below. Let's load the required packages and solve the problem of the Happy House!"
   ]
  },
  {
   "cell_type": "code",
   "execution_count": 1,
   "metadata": {},
   "outputs": [
    {
     "name": "stderr",
     "output_type": "stream",
     "text": [
      "Using TensorFlow backend.\n"
     ]
    }
   ],
   "source": [
    "import numpy as np\n",
    "from keras import layers\n",
    "from keras.layers import Input, Dense, Activation, ZeroPadding2D, BatchNormalization, Flatten, Conv2D\n",
    "from keras.layers import AveragePooling2D, MaxPooling2D, Dropout, GlobalMaxPooling2D, GlobalAveragePooling2D\n",
    "from keras.models import Model\n",
    "from keras.preprocessing import image\n",
    "from keras.utils import layer_utils\n",
    "from keras.utils.data_utils import get_file\n",
    "from keras.applications.imagenet_utils import preprocess_input\n",
    "import pydot\n",
    "from IPython.display import SVG\n",
    "from keras.utils.vis_utils import model_to_dot\n",
    "from keras.utils import plot_model\n",
    "from kt_utils import *\n",
    "\n",
    "import keras.backend as K\n",
    "K.set_image_data_format('channels_last')\n",
    "import matplotlib.pyplot as plt\n",
    "from matplotlib.pyplot import imshow\n",
    "\n",
    "%matplotlib inline"
   ]
  },
  {
   "cell_type": "markdown",
   "metadata": {},
   "source": [
    "**Note**: As you can see, we've imported a lot of functions from Keras. You can use them easily just by calling them directly in the notebook. Ex: `X = Input(...)` or `X = ZeroPadding2D(...)`."
   ]
  },
  {
   "cell_type": "markdown",
   "metadata": {},
   "source": [
    "## 1 - The Happy House \n",
    "\n",
    "For your next vacation, you decided to spend a week with five of your friends from school. It is a very convenient house with many things to do nearby. But the most important benefit is that everybody has commited to be happy when they are in the house. So anyone wanting to enter the house must prove their current state of happiness.\n",
    "\n",
    "<img src=\"images/happy-house.jpg\" style=\"width:350px;height:270px;\">\n",
    "<caption><center> <u> <font color='purple'> **Figure 1** </u><font color='purple'>  : **the Happy House**</center></caption>\n",
    "\n",
    "\n",
    "As a deep learning expert, to make sure the \"Happy\" rule is strictly applied, you are going to build an algorithm which that uses pictures from the front door camera to check if the person is happy or not. The door should open only if the person is happy. \n",
    "\n",
    "You have gathered pictures of your friends and yourself, taken by the front-door camera. The dataset is labbeled. \n",
    "\n",
    "<img src=\"images/house-members.png\" style=\"width:550px;height:250px;\">\n",
    "\n",
    "Run the following code to normalize the dataset and learn about its shapes."
   ]
  },
  {
   "cell_type": "code",
   "execution_count": 2,
   "metadata": {},
   "outputs": [
    {
     "name": "stdout",
     "output_type": "stream",
     "text": [
      "number of training examples = 600\n",
      "number of test examples = 150\n",
      "X_train shape: (600, 64, 64, 3)\n",
      "Y_train shape: (600, 1)\n",
      "X_test shape: (150, 64, 64, 3)\n",
      "Y_test shape: (150, 1)\n"
     ]
    }
   ],
   "source": [
    "X_train_orig, Y_train_orig, X_test_orig, Y_test_orig, classes = load_dataset()\n",
    "\n",
    "# Normalize image vectors\n",
    "X_train = X_train_orig/255.\n",
    "X_test = X_test_orig/255.\n",
    "\n",
    "# Reshape\n",
    "Y_train = Y_train_orig.T\n",
    "Y_test = Y_test_orig.T\n",
    "\n",
    "print (\"number of training examples = \" + str(X_train.shape[0]))\n",
    "print (\"number of test examples = \" + str(X_test.shape[0]))\n",
    "print (\"X_train shape: \" + str(X_train.shape))\n",
    "print (\"Y_train shape: \" + str(Y_train.shape))\n",
    "print (\"X_test shape: \" + str(X_test.shape))\n",
    "print (\"Y_test shape: \" + str(Y_test.shape))"
   ]
  },
  {
   "cell_type": "markdown",
   "metadata": {},
   "source": [
    "**Details of the \"Happy\" dataset**:\n",
    "- Images are of shape (64,64,3)\n",
    "- Training: 600 pictures\n",
    "- Test: 150 pictures\n",
    "\n",
    "It is now time to solve the \"Happy\" Challenge."
   ]
  },
  {
   "cell_type": "markdown",
   "metadata": {},
   "source": [
    "## 2 - Building a model in Keras\n",
    "\n",
    "Keras is very good for rapid prototyping. In just a short time you will be able to build a model that achieves outstanding results.\n",
    "\n",
    "Here is an example of a model in Keras:\n",
    "\n",
    "```python\n",
    "def model(input_shape):\n",
    "    # Define the input placeholder as a tensor with shape input_shape. Think of this as your input image!\n",
    "    X_input = Input(input_shape)\n",
    "\n",
    "    # Zero-Padding: pads the border of X_input with zeroes\n",
    "    X = ZeroPadding2D((3, 3))(X_input)\n",
    "\n",
    "    # CONV -> BN -> RELU Block applied to X\n",
    "    X = Conv2D(32, (7, 7), strides = (1, 1), name = 'conv0')(X)\n",
    "    X = BatchNormalization(axis = 3, name = 'bn0')(X)\n",
    "    X = Activation('relu')(X)\n",
    "\n",
    "    # MAXPOOL\n",
    "    X = MaxPooling2D((2, 2), name='max_pool')(X)\n",
    "\n",
    "    # FLATTEN X (means convert it to a vector) + FULLYCONNECTED\n",
    "    X = Flatten()(X)\n",
    "    X = Dense(1, activation='sigmoid', name='fc')(X)\n",
    "\n",
    "    # Create model. This creates your Keras model instance, you'll use this instance to train/test the model.\n",
    "    model = Model(inputs = X_input, outputs = X, name='HappyModel')\n",
    "    \n",
    "    return model\n",
    "```\n",
    "\n",
    "Note that Keras uses a different convention with variable names than we've previously used with numpy and TensorFlow. In particular, rather than creating and assigning a new variable on each step of forward propagation such as `X`, `Z1`, `A1`, `Z2`, `A2`, etc. for the computations for the different layers, in Keras code each line above just reassigns `X` to a new value using `X = ...`. In other words, during each step of forward propagation, we are just writing the latest value in the commputation into the same variable `X`. The only exception was `X_input`, which we kept separate and did not overwrite, since we needed it at the end to create the Keras model instance (`model = Model(inputs = X_input, ...)` above). \n",
    "\n",
    "**Exercise**: Implement a `HappyModel()`. This assignment is more open-ended than most. We suggest that you start by implementing a model using the architecture we suggest, and run through the rest of this assignment using that as your initial model. But after that, come back and take initiative to try out other model architectures. For example, you might take inspiration from the model above, but then vary the network architecture and hyperparameters however you wish. You can also use other functions such as `AveragePooling2D()`, `GlobalMaxPooling2D()`, `Dropout()`. \n",
    "\n",
    "**Note**: You have to be careful with your data's shapes. Use what you've learned in the videos to make sure your convolutional, pooling and fully-connected layers are adapted to the volumes you're applying it to."
   ]
  },
  {
   "cell_type": "code",
   "execution_count": 42,
   "metadata": {},
   "outputs": [],
   "source": [
    "# GRADED FUNCTION: HappyModel\n",
    "\n",
    "def HappyModel(input_shape):\n",
    "    \"\"\"\n",
    "    Implementation of the HappyModel.\n",
    "    \n",
    "    Arguments:\n",
    "    input_shape -- shape of the images of the dataset\n",
    "\n",
    "    Returns:\n",
    "    model -- a Model() instance in Keras\n",
    "    \"\"\"\n",
    "    \n",
    "    ### START CODE HERE ###\n",
    "    X_input=Input(input_shape)\n",
    "    X=ZeroPadding2D((3,3))(X_input)\n",
    "    X=Conv2D(32,(7,7),strides=(1,1),name='conv0')(X)\n",
    "    X=BatchNormalization(axis=3,name='bn0')(X)\n",
    "    X=Activation('relu')(X)\n",
    "    X=MaxPooling2D((2,2),name='max_pool')(X)\n",
    "    X=Conv2D(64,(7,7),strides=(1,1),name='conv1')(X)\n",
    "    X=Activation('relu')(X)\n",
    "    X=Conv2D(128,(7,7),strides=(1,1),name='conv2')(X)\n",
    "    X=Activation('relu')(X)\n",
    "    X=MaxPooling2D((2,2),name='max_pool3')(X)\n",
    "    X=Flatten()(X)\n",
    "    X=Dense(1,activation=\"sigmoid\",name=\"fc\")(X)\n",
    "    model=Model(input=X_input, outputs=X,name=\"HappyModel\")\n",
    "    return model\n",
    "\n",
    "    # Feel free to use the suggested outline in the text above to get started, and run through the whole\n",
    "    # exercise (including the later portions of this notebook) once. The come back also try out other\n",
    "    # network architectures as well. \n",
    "    \n",
    "    \n",
    "    ### END CODE HERE ###\n",
    "    \n",
    "    return model"
   ]
  },
  {
   "cell_type": "markdown",
   "metadata": {},
   "source": [
    "You have now built a function to describe your model. To train and test this model, there are four steps in Keras:\n",
    "1. Create the model by calling the function above\n",
    "2. Compile the model by calling `model.compile(optimizer = \"...\", loss = \"...\", metrics = [\"accuracy\"])`\n",
    "3. Train the model on train data by calling `model.fit(x = ..., y = ..., epochs = ..., batch_size = ...)`\n",
    "4. Test the model on test data by calling `model.evaluate(x = ..., y = ...)`\n",
    "\n",
    "If you want to know more about `model.compile()`, `model.fit()`, `model.evaluate()` and their arguments, refer to the official [Keras documentation](https://keras.io/models/model/).\n",
    "\n",
    "**Exercise**: Implement step 1, i.e. create the model."
   ]
  },
  {
   "cell_type": "code",
   "execution_count": 43,
   "metadata": {},
   "outputs": [
    {
     "name": "stdout",
     "output_type": "stream",
     "text": [
      "(64, 64, 3)\n"
     ]
    },
    {
     "name": "stderr",
     "output_type": "stream",
     "text": [
      "/opt/conda/lib/python3.6/site-packages/ipykernel/__main__.py:28: UserWarning: Update your `Model` call to the Keras 2 API: `Model(outputs=Tensor(\"fc..., name=\"HappyModel\", inputs=Tensor(\"in...)`\n"
     ]
    }
   ],
   "source": [
    "### START CODE HERE ### (1 line)\n",
    "train_shape=tuple((X_train.shape[1],X_train.shape[2],X_train.shape[3]))\n",
    "print(train_shape)\n",
    "happyModel = HappyModel(train_shape)\n",
    "### END CODE HERE ###"
   ]
  },
  {
   "cell_type": "markdown",
   "metadata": {},
   "source": [
    "**Exercise**: Implement step 2, i.e. compile the model to configure the learning process. Choose the 3 arguments of `compile()` wisely. Hint: the Happy Challenge is a binary classification problem."
   ]
  },
  {
   "cell_type": "code",
   "execution_count": 44,
   "metadata": {},
   "outputs": [],
   "source": [
    "### START CODE HERE ### (1 line)\n",
    "happyModel.compile(optimizer=\"Adam\",loss=\"binary_crossentropy\",metrics=[\"accuracy\"])\n",
    "### END CODE HERE ###"
   ]
  },
  {
   "cell_type": "markdown",
   "metadata": {},
   "source": [
    "**Exercise**: Implement step 3, i.e. train the model. Choose the number of epochs and the batch size."
   ]
  },
  {
   "cell_type": "code",
   "execution_count": 52,
   "metadata": {},
   "outputs": [
    {
     "name": "stdout",
     "output_type": "stream",
     "text": [
      "Epoch 1/5\n",
      "600/600 [==============================] - 57s - loss: 0.0362 - acc: 0.9867    \n",
      "Epoch 2/5\n",
      "600/600 [==============================] - 57s - loss: 0.0322 - acc: 0.9883    \n",
      "Epoch 3/5\n",
      "600/600 [==============================] - 56s - loss: 0.0359 - acc: 0.9883    \n",
      "Epoch 4/5\n",
      "600/600 [==============================] - 58s - loss: 0.0412 - acc: 0.9850    \n",
      "Epoch 5/5\n",
      "600/600 [==============================] - 56s - loss: 0.1202 - acc: 0.9550    \n"
     ]
    },
    {
     "data": {
      "text/plain": [
       "<keras.callbacks.History at 0x7f16e2baed30>"
      ]
     },
     "execution_count": 52,
     "metadata": {},
     "output_type": "execute_result"
    }
   ],
   "source": [
    "### START CODE HERE ### (1 line)\n",
    "happyModel.fit(x=X_train,y=Y_train,epochs=5,batch_size=16)\n",
    "### END CODE HERE ###"
   ]
  },
  {
   "cell_type": "markdown",
   "metadata": {},
   "source": [
    "Note that if you run `fit()` again, the `model` will continue to train with the parameters it has already learnt instead of reinitializing them.\n",
    "\n",
    "**Exercise**: Implement step 4, i.e. test/evaluate the model."
   ]
  },
  {
   "cell_type": "code",
   "execution_count": 53,
   "metadata": {
    "scrolled": true
   },
   "outputs": [
    {
     "name": "stdout",
     "output_type": "stream",
     "text": [
      "150/150 [==============================] - 4s     \n",
      "\n",
      "Loss = 0.256762326956\n",
      "Test Accuracy = 0.92666667064\n"
     ]
    }
   ],
   "source": [
    "### START CODE HERE ### (1 line)\n",
    "preds = happyModel.evaluate(x=X_test,y=Y_test)\n",
    "### END CODE HERE ###\n",
    "print()\n",
    "print (\"Loss = \" + str(preds[0]))\n",
    "print (\"Test Accuracy = \" + str(preds[1]))"
   ]
  },
  {
   "cell_type": "markdown",
   "metadata": {},
   "source": [
    "If your `happyModel()` function worked, you should have observed much better than random-guessing (50%) accuracy on the train and test sets.\n",
    "\n",
    "To give you a point of comparison, our model gets around **95% test accuracy in 40 epochs** (and 99% train accuracy) with a mini batch size of 16 and \"adam\" optimizer. But our model gets decent accuracy after just 2-5 epochs, so if you're comparing different models you can also train a variety of models on just a few epochs and see how they compare. \n",
    "\n",
    "If you have not yet achieved a very good accuracy (let's say more than 80%), here're some things you can play around with to try to achieve it:\n",
    "\n",
    "- Try using blocks of CONV->BATCHNORM->RELU such as:\n",
    "```python\n",
    "X = Conv2D(32, (3, 3), strides = (1, 1), name = 'conv0')(X)\n",
    "X = BatchNormalization(axis = 3, name = 'bn0')(X)\n",
    "X = Activation('relu')(X)\n",
    "```\n",
    "until your height and width dimensions are quite low and your number of channels quite large (≈32 for example). You are encoding useful information in a volume with a lot of channels. You can then flatten the volume and use a fully-connected layer.\n",
    "- You can use MAXPOOL after such blocks. It will help you lower the dimension in height and width.\n",
    "- Change your optimizer. We find Adam works well. \n",
    "- If the model is struggling to run and you get memory issues, lower your batch_size (12 is usually a good compromise)\n",
    "- Run on more epochs, until you see the train accuracy plateauing. \n",
    "\n",
    "Even if you have achieved a good accuracy, please feel free to keep playing with your model to try to get even better results. \n",
    "\n",
    "**Note**: If you perform hyperparameter tuning on your model, the test set actually becomes a dev set, and your model might end up overfitting to the test (dev) set. But just for the purpose of this assignment, we won't worry about that here.\n"
   ]
  },
  {
   "cell_type": "markdown",
   "metadata": {},
   "source": [
    "## 3 - Conclusion\n",
    "\n",
    "Congratulations, you have solved the Happy House challenge! \n",
    "\n",
    "Now, you just need to link this model to the front-door camera of your house. We unfortunately won't go into the details of how to do that here. "
   ]
  },
  {
   "cell_type": "markdown",
   "metadata": {},
   "source": [
    "<font color='blue'>\n",
    "**What we would like you to remember from this assignment:**\n",
    "- Keras is a tool we recommend for rapid prototyping. It allows you to quickly try out different model architectures. Are there any applications of deep learning to your daily life that you'd like to implement using Keras? \n",
    "- Remember how to code a model in Keras and the four steps leading to the evaluation of your model on the test set. Create->Compile->Fit/Train->Evaluate/Test."
   ]
  },
  {
   "cell_type": "markdown",
   "metadata": {},
   "source": [
    "## 4 - Test with your own image (Optional)\n",
    "\n",
    "Congratulations on finishing this assignment. You can now take a picture of your face and see if you could enter the Happy House. To do that:\n",
    "    1. Click on \"File\" in the upper bar of this notebook, then click \"Open\" to go on your Coursera Hub.\n",
    "    2. Add your image to this Jupyter Notebook's directory, in the \"images\" folder\n",
    "    3. Write your image's name in the following code\n",
    "    4. Run the code and check if the algorithm is right (0 is unhappy, 1 is happy)!\n",
    "    \n",
    "The training/test sets were quite similar; for example, all the pictures were taken against the same background (since a front door camera is always mounted in the same position). This makes the problem easier, but a model trained on this data may or may not work on your own data. But feel free to give it a try! "
   ]
  },
  {
   "cell_type": "code",
   "execution_count": 58,
   "metadata": {},
   "outputs": [
    {
     "name": "stdout",
     "output_type": "stream",
     "text": [
      "[[ 1.]]\n"
     ]
    },
    {
     "data": {
      "image/png": "[encoded data removed]",
      "text/plain": [
       "<matplotlib.figure.Figure at 0x7f16e2b0f390>"
      ]
     },
     "metadata": {},
     "output_type": "display_data"
    }
   ],
   "source": [
    "### START CODE HERE ###\n",
    "img_path = 'images/Me.jpg'\n",
    "### END CODE HERE ###\n",
    "img = image.load_img(img_path, target_size=(64, 64))\n",
    "imshow(img)\n",
    "\n",
    "x = image.img_to_array(img)\n",
    "x = np.expand_dims(x, axis=0)\n",
    "x = preprocess_input(x)\n",
    "\n",
    "print(happyModel.predict(x))"
   ]
  },
  {
   "cell_type": "markdown",
   "metadata": {},
   "source": [
    "## 5 - Other useful functions in Keras (Optional)\n",
    "\n",
    "Two other basic features of Keras that you'll find useful are:\n",
    "- `model.summary()`: prints the details of your layers in a table with the sizes of its inputs/outputs\n",
    "- `plot_model()`: plots your graph in a nice layout. You can even save it as \".png\" using SVG() if you'd like to share it on social media ;). It is saved in \"File\" then \"Open...\" in the upper bar of the notebook.\n",
    "\n",
    "Run the following code."
   ]
  },
  {
   "cell_type": "code",
   "execution_count": 59,
   "metadata": {
    "scrolled": false
   },
   "outputs": [
    {
     "name": "stdout",
     "output_type": "stream",
     "text": [
      "_________________________________________________________________\n",
      "Layer (type)                 Output Shape              Param #   \n",
      "=================================================================\n",
      "input_10 (InputLayer)        (None, 64, 64, 3)         0         \n",
      "_________________________________________________________________\n",
      "zero_padding2d_10 (ZeroPaddi (None, 70, 70, 3)         0         \n",
      "_________________________________________________________________\n",
      "conv0 (Conv2D)               (None, 64, 64, 32)        4736      \n",
      "_________________________________________________________________\n",
      "bn0 (BatchNormalization)     (None, 64, 64, 32)        128       \n",
      "_________________________________________________________________\n",
      "activation_17 (Activation)   (None, 64, 64, 32)        0         \n",
      "_________________________________________________________________\n",
      "max_pool (MaxPooling2D)      (None, 32, 32, 32)        0         \n",
      "_________________________________________________________________\n",
      "conv1 (Conv2D)               (None, 26, 26, 64)        100416    \n",
      "_________________________________________________________________\n",
      "activation_18 (Activation)   (None, 26, 26, 64)        0         \n",
      "_________________________________________________________________\n",
      "conv2 (Conv2D)               (None, 20, 20, 128)       401536    \n",
      "_________________________________________________________________\n",
      "activation_19 (Activation)   (None, 20, 20, 128)       0         \n",
      "_________________________________________________________________\n",
      "max_pool3 (MaxPooling2D)     (None, 10, 10, 128)       0         \n",
      "_________________________________________________________________\n",
      "flatten_7 (Flatten)          (None, 12800)             0         \n",
      "_________________________________________________________________\n",
      "fc (Dense)                   (None, 1)                 12801     \n",
      "=================================================================\n",
      "Total params: 519,617\n",
      "Trainable params: 519,553\n",
      "Non-trainable params: 64\n",
      "_________________________________________________________________\n"
     ]
    }
   ],
   "source": [
    "happyModel.summary()"
   ]
  },
  {
   "cell_type": "code",
   "execution_count": 60,
   "metadata": {},
   "outputs": [
    {
     "data": {
      "image/svg+xml": [
       "<svg height=\"921pt\" viewBox=\"0.00 0.00 232.00 921.00\" width=\"232pt\" xmlns=\"http://www.w3.org/2000/svg\" xmlns:xlink=\"http://www.w3.org/1999/xlink\">\n",
       "<g class=\"graph\" id=\"graph0\" transform=\"scale(1 1) rotate(0) translate(4 917)\">\n",
       "<title>G</title>\n",
       "<polygon fill=\"white\" points=\"-4,4 -4,-917 228,-917 228,4 -4,4\" stroke=\"none\"/>\n",
       "<!-- 139736346830720 -->\n",
       "<g class=\"node\" id=\"node1\"><title>139736346830720</title>\n",
       "<polygon fill=\"none\" points=\"45.5,-876.5 45.5,-912.5 178.5,-912.5 178.5,-876.5 45.5,-876.5\" stroke=\"black\"/>\n",
       "<text font-family=\"Times,serif\" font-size=\"14.00\" text-anchor=\"middle\" x=\"112\" y=\"-890.8\">input_10: InputLayer</text>\n",
       "</g>\n",
       "<!-- 139736347206096 -->\n",
       "<g class=\"node\" id=\"node2\"><title>139736347206096</title>\n",
       "<polygon fill=\"none\" points=\"-1.42109e-14,-803.5 -1.42109e-14,-839.5 224,-839.5 224,-803.5 -1.42109e-14,-803.5\" stroke=\"black\"/>\n",
       "<text font-family=\"Times,serif\" font-size=\"14.00\" text-anchor=\"middle\" x=\"112\" y=\"-817.8\">zero_padding2d_10: ZeroPadding2D</text>\n",
       "</g>\n",
       "<!-- 139736346830720&#45;&gt;139736347206096 -->\n",
       "<g class=\"edge\" id=\"edge1\"><title>139736346830720-&gt;139736347206096</title>\n",
       "<path d=\"M112,-876.313C112,-868.289 112,-858.547 112,-849.569\" fill=\"none\" stroke=\"black\"/>\n",
       "<polygon fill=\"black\" points=\"115.5,-849.529 112,-839.529 108.5,-849.529 115.5,-849.529\" stroke=\"black\"/>\n",
       "</g>\n",
       "<!-- 139736347206376 -->\n",
       "<g class=\"node\" id=\"node3\"><title>139736347206376</title>\n",
       "<polygon fill=\"none\" points=\"59.5,-730.5 59.5,-766.5 164.5,-766.5 164.5,-730.5 59.5,-730.5\" stroke=\"black\"/>\n",
       "<text font-family=\"Times,serif\" font-size=\"14.00\" text-anchor=\"middle\" x=\"112\" y=\"-744.8\">conv0: Conv2D</text>\n",
       "</g>\n",
       "<!-- 139736347206096&#45;&gt;139736347206376 -->\n",
       "<g class=\"edge\" id=\"edge2\"><title>139736347206096-&gt;139736347206376</title>\n",
       "<path d=\"M112,-803.313C112,-795.289 112,-785.547 112,-776.569\" fill=\"none\" stroke=\"black\"/>\n",
       "<polygon fill=\"black\" points=\"115.5,-776.529 112,-766.529 108.5,-776.529 115.5,-776.529\" stroke=\"black\"/>\n",
       "</g>\n",
       "<!-- 139736347206488 -->\n",
       "<g class=\"node\" id=\"node4\"><title>139736347206488</title>\n",
       "<polygon fill=\"none\" points=\"35,-657.5 35,-693.5 189,-693.5 189,-657.5 35,-657.5\" stroke=\"black\"/>\n",
       "<text font-family=\"Times,serif\" font-size=\"14.00\" text-anchor=\"middle\" x=\"112\" y=\"-671.8\">bn0: BatchNormalization</text>\n",
       "</g>\n",
       "<!-- 139736347206376&#45;&gt;139736347206488 -->\n",
       "<g class=\"edge\" id=\"edge3\"><title>139736347206376-&gt;139736347206488</title>\n",
       "<path d=\"M112,-730.313C112,-722.289 112,-712.547 112,-703.569\" fill=\"none\" stroke=\"black\"/>\n",
       "<polygon fill=\"black\" points=\"115.5,-703.529 112,-693.529 108.5,-703.529 115.5,-703.529\" stroke=\"black\"/>\n",
       "</g>\n",
       "<!-- 139736346832792 -->\n",
       "<g class=\"node\" id=\"node5\"><title>139736346832792</title>\n",
       "<polygon fill=\"none\" points=\"35,-584.5 35,-620.5 189,-620.5 189,-584.5 35,-584.5\" stroke=\"black\"/>\n",
       "<text font-family=\"Times,serif\" font-size=\"14.00\" text-anchor=\"middle\" x=\"112\" y=\"-598.8\">activation_17: Activation</text>\n",
       "</g>\n",
       "<!-- 139736347206488&#45;&gt;139736346832792 -->\n",
       "<g class=\"edge\" id=\"edge4\"><title>139736347206488-&gt;139736346832792</title>\n",
       "<path d=\"M112,-657.313C112,-649.289 112,-639.547 112,-630.569\" fill=\"none\" stroke=\"black\"/>\n",
       "<polygon fill=\"black\" points=\"115.5,-630.529 112,-620.529 108.5,-630.529 115.5,-630.529\" stroke=\"black\"/>\n",
       "</g>\n",
       "<!-- 139736346927848 -->\n",
       "<g class=\"node\" id=\"node6\"><title>139736346927848</title>\n",
       "<polygon fill=\"none\" points=\"30,-511.5 30,-547.5 194,-547.5 194,-511.5 30,-511.5\" stroke=\"black\"/>\n",
       "<text font-family=\"Times,serif\" font-size=\"14.00\" text-anchor=\"middle\" x=\"112\" y=\"-525.8\">max_pool: MaxPooling2D</text>\n",
       "</g>\n",
       "<!-- 139736346832792&#45;&gt;139736346927848 -->\n",
       "<g class=\"edge\" id=\"edge5\"><title>139736346832792-&gt;139736346927848</title>\n",
       "<path d=\"M112,-584.313C112,-576.289 112,-566.547 112,-557.569\" fill=\"none\" stroke=\"black\"/>\n",
       "<polygon fill=\"black\" points=\"115.5,-557.529 112,-547.529 108.5,-557.529 115.5,-557.529\" stroke=\"black\"/>\n",
       "</g>\n",
       "<!-- 139736347017680 -->\n",
       "<g class=\"node\" id=\"node7\"><title>139736347017680</title>\n",
       "<polygon fill=\"none\" points=\"59.5,-438.5 59.5,-474.5 164.5,-474.5 164.5,-438.5 59.5,-438.5\" stroke=\"black\"/>\n",
       "<text font-family=\"Times,serif\" font-size=\"14.00\" text-anchor=\"middle\" x=\"112\" y=\"-452.8\">conv1: Conv2D</text>\n",
       "</g>\n",
       "<!-- 139736346927848&#45;&gt;139736347017680 -->\n",
       "<g class=\"edge\" id=\"edge6\"><title>139736346927848-&gt;139736347017680</title>\n",
       "<path d=\"M112,-511.313C112,-503.289 112,-493.547 112,-484.569\" fill=\"none\" stroke=\"black\"/>\n",
       "<polygon fill=\"black\" points=\"115.5,-484.529 112,-474.529 108.5,-484.529 115.5,-484.529\" stroke=\"black\"/>\n",
       "</g>\n",
       "<!-- 139736346769056 -->\n",
       "<g class=\"node\" id=\"node8\"><title>139736346769056</title>\n",
       "<polygon fill=\"none\" points=\"35,-365.5 35,-401.5 189,-401.5 189,-365.5 35,-365.5\" stroke=\"black\"/>\n",
       "<text font-family=\"Times,serif\" font-size=\"14.00\" text-anchor=\"middle\" x=\"112\" y=\"-379.8\">activation_18: Activation</text>\n",
       "</g>\n",
       "<!-- 139736347017680&#45;&gt;139736346769056 -->\n",
       "<g class=\"edge\" id=\"edge7\"><title>139736347017680-&gt;139736346769056</title>\n",
       "<path d=\"M112,-438.313C112,-430.289 112,-420.547 112,-411.569\" fill=\"none\" stroke=\"black\"/>\n",
       "<polygon fill=\"black\" points=\"115.5,-411.529 112,-401.529 108.5,-411.529 115.5,-411.529\" stroke=\"black\"/>\n",
       "</g>\n",
       "<!-- 139736346420560 -->\n",
       "<g class=\"node\" id=\"node9\"><title>139736346420560</title>\n",
       "<polygon fill=\"none\" points=\"59.5,-292.5 59.5,-328.5 164.5,-328.5 164.5,-292.5 59.5,-292.5\" stroke=\"black\"/>\n",
       "<text font-family=\"Times,serif\" font-size=\"14.00\" text-anchor=\"middle\" x=\"112\" y=\"-306.8\">conv2: Conv2D</text>\n",
       "</g>\n",
       "<!-- 139736346769056&#45;&gt;139736346420560 -->\n",
       "<g class=\"edge\" id=\"edge8\"><title>139736346769056-&gt;139736346420560</title>\n",
       "<path d=\"M112,-365.313C112,-357.289 112,-347.547 112,-338.569\" fill=\"none\" stroke=\"black\"/>\n",
       "<polygon fill=\"black\" points=\"115.5,-338.529 112,-328.529 108.5,-338.529 115.5,-338.529\" stroke=\"black\"/>\n",
       "</g>\n",
       "<!-- 139736346422128 -->\n",
       "<g class=\"node\" id=\"node10\"><title>139736346422128</title>\n",
       "<polygon fill=\"none\" points=\"35,-219.5 35,-255.5 189,-255.5 189,-219.5 35,-219.5\" stroke=\"black\"/>\n",
       "<text font-family=\"Times,serif\" font-size=\"14.00\" text-anchor=\"middle\" x=\"112\" y=\"-233.8\">activation_19: Activation</text>\n",
       "</g>\n",
       "<!-- 139736346420560&#45;&gt;139736346422128 -->\n",
       "<g class=\"edge\" id=\"edge9\"><title>139736346420560-&gt;139736346422128</title>\n",
       "<path d=\"M112,-292.313C112,-284.289 112,-274.547 112,-265.569\" fill=\"none\" stroke=\"black\"/>\n",
       "<polygon fill=\"black\" points=\"115.5,-265.529 112,-255.529 108.5,-265.529 115.5,-265.529\" stroke=\"black\"/>\n",
       "</g>\n",
       "<!-- 139736346508872 -->\n",
       "<g class=\"node\" id=\"node11\"><title>139736346508872</title>\n",
       "<polygon fill=\"none\" points=\"27,-146.5 27,-182.5 197,-182.5 197,-146.5 27,-146.5\" stroke=\"black\"/>\n",
       "<text font-family=\"Times,serif\" font-size=\"14.00\" text-anchor=\"middle\" x=\"112\" y=\"-160.8\">max_pool3: MaxPooling2D</text>\n",
       "</g>\n",
       "<!-- 139736346422128&#45;&gt;139736346508872 -->\n",
       "<g class=\"edge\" id=\"edge10\"><title>139736346422128-&gt;139736346508872</title>\n",
       "<path d=\"M112,-219.313C112,-211.289 112,-201.547 112,-192.569\" fill=\"none\" stroke=\"black\"/>\n",
       "<polygon fill=\"black\" points=\"115.5,-192.529 112,-182.529 108.5,-192.529 115.5,-192.529\" stroke=\"black\"/>\n",
       "</g>\n",
       "<!-- 139736346063536 -->\n",
       "<g class=\"node\" id=\"node12\"><title>139736346063536</title>\n",
       "<polygon fill=\"none\" points=\"57.5,-73.5 57.5,-109.5 166.5,-109.5 166.5,-73.5 57.5,-73.5\" stroke=\"black\"/>\n",
       "<text font-family=\"Times,serif\" font-size=\"14.00\" text-anchor=\"middle\" x=\"112\" y=\"-87.8\">flatten_7: Flatten</text>\n",
       "</g>\n",
       "<!-- 139736346508872&#45;&gt;139736346063536 -->\n",
       "<g class=\"edge\" id=\"edge11\"><title>139736346508872-&gt;139736346063536</title>\n",
       "<path d=\"M112,-146.313C112,-138.289 112,-128.547 112,-119.569\" fill=\"none\" stroke=\"black\"/>\n",
       "<polygon fill=\"black\" points=\"115.5,-119.529 112,-109.529 108.5,-119.529 115.5,-119.529\" stroke=\"black\"/>\n",
       "</g>\n",
       "<!-- 139736346156112 -->\n",
       "<g class=\"node\" id=\"node13\"><title>139736346156112</title>\n",
       "<polygon fill=\"none\" points=\"77.5,-0.5 77.5,-36.5 146.5,-36.5 146.5,-0.5 77.5,-0.5\" stroke=\"black\"/>\n",
       "<text font-family=\"Times,serif\" font-size=\"14.00\" text-anchor=\"middle\" x=\"112\" y=\"-14.8\">fc: Dense</text>\n",
       "</g>\n",
       "<!-- 139736346063536&#45;&gt;139736346156112 -->\n",
       "<g class=\"edge\" id=\"edge12\"><title>139736346063536-&gt;139736346156112</title>\n",
       "<path d=\"M112,-73.3129C112,-65.2895 112,-55.5475 112,-46.5691\" fill=\"none\" stroke=\"black\"/>\n",
       "<polygon fill=\"black\" points=\"115.5,-46.5288 112,-36.5288 108.5,-46.5289 115.5,-46.5288\" stroke=\"black\"/>\n",
       "</g>\n",
       "</g>\n",
       "</svg>"
      ],
      "text/plain": [
       "<IPython.core.display.SVG object>"
      ]
     },
     "execution_count": 60,
     "metadata": {},
     "output_type": "execute_result"
    }
   ],
   "source": [
    "plot_model(happyModel, to_file='HappyModel.png')\n",
    "SVG(model_to_dot(happyModel).create(prog='dot', format='svg'))"
   ]
  },
  {
   "cell_type": "code",
   "execution_count": null,
   "metadata": {
    "collapsed": true
   },
   "outputs": [],
   "source": []
  }
 ],
 "metadata": {
  "kernelspec": {
   "display_name": "Python 3",
   "language": "python",
   "name": "python3"
  },
  "language_info": {
   "codemirror_mode": {
    "name": "ipython",
    "version": 3
   },
   "file_extension": ".py",
   "mimetype": "text/x-python",
   "name": "python",
   "nbconvert_exporter": "python",
   "pygments_lexer": "ipython3",
   "version": "3.6.0"
  }
 },
 "nbformat": 4,
 "nbformat_minor": 2
}
